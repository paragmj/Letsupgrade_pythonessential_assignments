{
 "cells": [
  {
   "cell_type": "markdown",
   "metadata": {},
   "source": [
    "# Q1  Write a Python program to remove duplicates from a list"
   ]
  },
  {
   "cell_type": "code",
   "execution_count": 36,
   "metadata": {},
   "outputs": [
    {
     "data": {
      "text/plain": [
       "[1, 2, 3, 4, 5, 6]"
      ]
     },
     "execution_count": 36,
     "metadata": {},
     "output_type": "execute_result"
    }
   ],
   "source": [
    "l1=[1,2,3,1,2,3,4,5,6,5,6,4,3,2,1]\n",
    "\n",
    "for i in l1:\n",
    "    while(l1.count(i)>1):\n",
    "        k=l1.index(i,l1.index(i)+1)\n",
    "        l1.pop(k)\n",
    "l1\n"
   ]
  },
  {
   "cell_type": "code",
   "execution_count": 37,
   "metadata": {},
   "outputs": [
    {
     "data": {
      "text/plain": [
       "['a', 'b', 'c', 'd']"
      ]
     },
     "execution_count": 37,
     "metadata": {},
     "output_type": "execute_result"
    }
   ],
   "source": [
    "l1=['a','b','c','a','b','c','a','b','c','a','b','c','d','a','b','c','d']\n",
    "for i in l1:\n",
    "    while(l1.count(i)>1):\n",
    "        k=l1.index(i,l1.index(i)+1)\n",
    "        l1.pop(k)\n",
    "l1\n"
   ]
  },
  {
   "cell_type": "markdown",
   "metadata": {},
   "source": [
    "# Q2 Write a Python program to get the difference between the two lists"
   ]
  },
  {
   "cell_type": "code",
   "execution_count": 190,
   "metadata": {},
   "outputs": [
    {
     "name": "stdout",
     "output_type": "stream",
     "text": [
      "[10, 15, 20, 30]\n"
     ]
    }
   ],
   "source": [
    "list1=[10, 15, 20, 25, 30, 35, 40]\n",
    "list2=[25, 40, 35] \n",
    "result=[]\n",
    "for i in list1:\n",
    "    if i not in list2:\n",
    "        result.append(i)\n",
    "print(result)"
   ]
  },
  {
   "cell_type": "markdown",
   "metadata": {},
   "source": [
    "# Q3 Write a Python program to get the frequency of the elements in a list"
   ]
  },
  {
   "cell_type": "code",
   "execution_count": 55,
   "metadata": {},
   "outputs": [
    {
     "name": "stdout",
     "output_type": "stream",
     "text": [
      "<class 'list'>\n",
      "occurence of 1 times 2\n",
      "occurence of 2 times 3\n",
      "occurence of 3 times 4\n",
      "occurence of 4 times 4\n",
      "occurence of 5 times 2\n",
      "occurence of 7 times 1\n"
     ]
    }
   ],
   "source": [
    "l1 = [1,2,3,4,5,2,3,4,5,1,2,3,4,3,7,4]\n",
    "print(type(l2))\n",
    "for i in l1:\n",
    "    while(l1.count(i)>1):\n",
    "        k=l1.index(i,l1.index(i)+1)\n",
    "        l1.pop(k)\n",
    "for i in l1:\n",
    "    print('occurence of',i,'times',l2.count(i))"
   ]
  },
  {
   "cell_type": "markdown",
   "metadata": {},
   "source": [
    "# Q4 Write a Python program to compute the similarity between two lists.\n",
    "Sample data: [\"red\", \"orange\", \"green\", \"blue\", \"white\"], [\"black\", \"yellow\", \"green\", \"blue\"]"
   ]
  },
  {
   "cell_type": "code",
   "execution_count": 58,
   "metadata": {},
   "outputs": [
    {
     "name": "stdout",
     "output_type": "stream",
     "text": [
      "['red', 'orange', 'white'] ['black', 'yellow']\n"
     ]
    }
   ],
   "source": [
    "color_list1 = [\"red\", \"orange\", \"green\", \"blue\", \"white\"]\n",
    "color_list2 = [\"black\", \"yellow\", \"green\", \"blue\"]\n",
    "\n",
    "ans1,ans2 = [],[]\n",
    "\n",
    "for i in color_list1:\n",
    "    if i not in color_list2:\n",
    "        ans1.append(i)\n",
    "for i in color_list2:\n",
    "    if i not in color_list1:\n",
    "        ans2.append(i)\n",
    "print(ans1,ans2)"
   ]
  },
  {
   "cell_type": "markdown",
   "metadata": {},
   "source": [
    "# Q5 Write a Python function that takes a list of words and returns the length of the longest"
   ]
  },
  {
   "cell_type": "code",
   "execution_count": 59,
   "metadata": {},
   "outputs": [
    {
     "name": "stdout",
     "output_type": "stream",
     "text": [
      "6\n"
     ]
    }
   ],
   "source": [
    "def longest_word(l1):\n",
    "    long = 0\n",
    "    for i in l1:\n",
    "        if long<len(i) :\n",
    "            long = len(i)\n",
    "    return long\n",
    "\n",
    "l1=['Parag','Rahul','Swarup',\"Shoaib\",'Abdul']\n",
    "print(longest_word(l1))"
   ]
  },
  {
   "cell_type": "markdown",
   "metadata": {},
   "source": [
    "# Q6 Write a Python program to count the occurrences of each word in a given sentence"
   ]
  },
  {
   "cell_type": "code",
   "execution_count": 93,
   "metadata": {},
   "outputs": [
    {
     "name": "stdout",
     "output_type": "stream",
     "text": [
      "She 1\n",
      "also 1\n",
      "told 1\n",
      "a 8\n",
      "media 1\n",
      "outlet 1\n",
      "that 1\n",
      "police 1\n",
      "asked 1\n",
      "the 3\n",
      "panel 1\n",
      "to 4\n",
      "give 1\n",
      "required 1\n",
      "counselling 1\n",
      "to 4\n",
      "the 3\n",
      "victim 1\n",
      "and 1\n",
      "to 4\n",
      "submit 1\n",
      "a 8\n",
      "report 1\n",
      "on 1\n",
      "the 3\n"
     ]
    }
   ],
   "source": [
    "def count_of_occurences(sentence):\n",
    "    word=''\n",
    "    for i in sentence:\n",
    "        if(i == ' ' or sentence.index(i)==len(sentence)-1):\n",
    "            print(word,sentence.count(word))\n",
    "            word=''\n",
    "            \n",
    "        else:\n",
    "            word+=i\n",
    "            \n",
    "\n",
    "sentence=\"She also told a media outlet that police asked the panel to give required counselling to the victim and to submit a report on the incident\"\n",
    "count_of_occurences(sentence) "
   ]
  },
  {
   "cell_type": "markdown",
   "metadata": {},
   "source": [
    "# Q7 Write a Python program to count and display the vowels of a given text "
   ]
  },
  {
   "cell_type": "code",
   "execution_count": 94,
   "metadata": {},
   "outputs": [
    {
     "name": "stdout",
     "output_type": "stream",
     "text": [
      "a 8\n",
      "e 15\n",
      "i 10\n",
      "o 10\n",
      "u 4\n"
     ]
    }
   ],
   "source": [
    "def count_of_vowels(test):\n",
    "    vowel=['a','e','i','o','u']\n",
    "    for i in vowel :\n",
    "        print(i,test.count(i))\n",
    "\n",
    "sentence=\"She also told a media outlet that police asked the panel to give required counselling to the victim and to submit a report on the incident\"\n",
    "count_of_vowels(sentence) "
   ]
  },
  {
   "cell_type": "markdown",
   "metadata": {},
   "source": [
    "# Q8 Write a Python script to generate and print a dictionary that contains a number (between 1 and n) in the form (x, x*x) (dictionary of squares)"
   ]
  },
  {
   "cell_type": "code",
   "execution_count": 101,
   "metadata": {},
   "outputs": [
    {
     "name": "stdout",
     "output_type": "stream",
     "text": [
      "Enter value of n5\n",
      "{1: 1, 2: 4, 3: 9, 4: 16, 5: 25}\n"
     ]
    }
   ],
   "source": [
    "def dict_of_sqr(n):\n",
    "    dict1={}\n",
    "    for i in range(1,n+1):\n",
    "        dict1[i]=i*i\n",
    "    return dict1\n",
    "\n",
    "n = int(input(\"Enter value of n\"))\n",
    "print(dict_of_sqr(n))"
   ]
  },
  {
   "cell_type": "markdown",
   "metadata": {},
   "source": [
    "# Q9 Write a Python program to combine two dictionary adding values for common keys"
   ]
  },
  {
   "cell_type": "code",
   "execution_count": 132,
   "metadata": {},
   "outputs": [
    {
     "name": "stdout",
     "output_type": "stream",
     "text": [
      "{'a': 400, 'b': 400, 'c': 300, 'd': 400}\n"
     ]
    }
   ],
   "source": [
    "d1 = {'a': 100, 'b': 200, 'c':300}\n",
    "d2 = {'a': 300, 'b': 200, 'd':400}\n",
    "result={}\n",
    "result.update(d1)\n",
    "result.update(d2)\n",
    "for i in d1:\n",
    "    if i in d2:\n",
    "        result[i]=d1[i]+d2[i]\n",
    "    else:\n",
    "        result[i] = d1[i]\n",
    "\n",
    "print(result)"
   ]
  },
  {
   "cell_type": "markdown",
   "metadata": {},
   "source": [
    "# Q10 Write a Python program to print all unique values in a dictionary"
   ]
  },
  {
   "cell_type": "code",
   "execution_count": 186,
   "metadata": {},
   "outputs": [
    {
     "name": "stdout",
     "output_type": "stream",
     "text": [
      "{'S005', 'S009', 'S001', 'S002', 'S007'}\n"
     ]
    }
   ],
   "source": [
    "l1=[{\"V\":\"S001\"}, {\"V\": \"S002\"}, {\"VI\": \"S001\"}, {\"VI\": \"S005\"}, {\"VII\":\"S005\"},\n",
    "{\"V\":\"S009\"},{\"VIII\":\"S007\"}]\n",
    "\n",
    "d1=set()\n",
    "for i in l1:\n",
    "    l2=i.popitem()\n",
    "    d1.add(l2[1])\n",
    "print(d1)"
   ]
  },
  {
   "cell_type": "code",
   "execution_count": null,
   "metadata": {},
   "outputs": [],
   "source": []
  }
 ],
 "metadata": {
  "kernelspec": {
   "display_name": "Python 3",
   "language": "python",
   "name": "python3"
  },
  "language_info": {
   "codemirror_mode": {
    "name": "ipython",
    "version": 3
   },
   "file_extension": ".py",
   "mimetype": "text/x-python",
   "name": "python",
   "nbconvert_exporter": "python",
   "pygments_lexer": "ipython3",
   "version": "3.7.1"
  }
 },
 "nbformat": 4,
 "nbformat_minor": 2
}
