{
 "cells": [
  {
   "cell_type": "markdown",
   "metadata": {},
   "source": [
    "# Q1 Write a Python function to find the Max of three numbers."
   ]
  },
  {
   "cell_type": "code",
   "execution_count": 3,
   "metadata": {},
   "outputs": [
    {
     "name": "stdout",
     "output_type": "stream",
     "text": [
      "Maximum no is  42\n"
     ]
    }
   ],
   "source": [
    "def max_value(a,b,c):\n",
    "    if(a>b):\n",
    "        if(a>c):\n",
    "            print(\"Maximum no is \",a)\n",
    "        else:\n",
    "            print(\"Maximum no is \",c)\n",
    "    elif(b>c):\n",
    "        print(\"Maximum no is \",b)\n",
    "    else:\n",
    "        print(\"Maximum no is \",c)\n",
    "        \n",
    "max_value(42,30,34)"
   ]
  },
  {
   "cell_type": "markdown",
   "metadata": {},
   "source": [
    "# Q2 Write a Python function that checks whether a passed string is palindrome or not"
   ]
  },
  {
   "cell_type": "code",
   "execution_count": 75,
   "metadata": {},
   "outputs": [
    {
     "name": "stdout",
     "output_type": "stream",
     "text": [
      "NAMAN is palindrome.\n"
     ]
    }
   ],
   "source": [
    "def palindrome(n):\n",
    "    l1=list(n)\n",
    "    count=0\n",
    "    for i in range(len(n)//2):\n",
    "        if(l1[i]==l1[len(n)-i-1]):\n",
    "            count+=1\n",
    "            continue\n",
    "        else:\n",
    "            break\n",
    "    if(count==len(n)//2):\n",
    "        print(n,\"is palindrome.\")\n",
    "    else:\n",
    "        print(n,\"is not palindrome .\")\n",
    "\n",
    "palindrome(\"NAMAN\")\n"
   ]
  },
  {
   "cell_type": "code",
   "execution_count": 68,
   "metadata": {},
   "outputs": [
    {
     "name": "stdout",
     "output_type": "stream",
     "text": [
      "banana\n"
     ]
    }
   ],
   "source": [
    "txt = \",,,,,         rrttgg.....banana....rrr\"\n",
    "\n",
    "x = txt.strip(\",.grt\")\n",
    "\n",
    "print(x)\n"
   ]
  },
  {
   "cell_type": "markdown",
   "metadata": {},
   "source": [
    "# Q3 Write a Python function that accepts a string and calculate the number of uppercase letters and lowercase letters"
   ]
  },
  {
   "cell_type": "code",
   "execution_count": 52,
   "metadata": {},
   "outputs": [
    {
     "name": "stdout",
     "output_type": "stream",
     "text": [
      "The total no of uppercase letters are  7 and lowercase strings are  13\n"
     ]
    }
   ],
   "source": [
    "def types_of_char(string1):\n",
    "    upper,lower=0,0\n",
    "    \n",
    "    for i in string1:\n",
    "        if(97<=ord(i)<=122):\n",
    "            lower+=1\n",
    "        if(65<=ord(i)<=90):\n",
    "            upper+=1\n",
    "    print(\"The total no of uppercase letters are \",upper,\"and lowercase strings are \",lower)\n",
    "    \n",
    "types_of_char('I aM a PyThon ProgrAmmeR.')"
   ]
  },
  {
   "cell_type": "markdown",
   "metadata": {},
   "source": [
    "# Q4 Write a Python function to sum all the numbers in a list"
   ]
  },
  {
   "cell_type": "code",
   "execution_count": 25,
   "metadata": {},
   "outputs": [
    {
     "name": "stdout",
     "output_type": "stream",
     "text": [
      "10\n"
     ]
    }
   ],
   "source": [
    "def sum(l1):\n",
    "    sum=0\n",
    "    for i in l1:\n",
    "        if(str(i).isnumeric()):\n",
    "            sum+=i\n",
    "    return sum\n",
    "\n",
    "l1=[1,2,3,4,'a']\n",
    "print(sum(l1))"
   ]
  },
  {
   "cell_type": "markdown",
   "metadata": {},
   "source": [
    "# Q5 Write a Python function to multiply all the numbers in a list"
   ]
  },
  {
   "cell_type": "code",
   "execution_count": 28,
   "metadata": {},
   "outputs": [
    {
     "name": "stdout",
     "output_type": "stream",
     "text": [
      "24\n"
     ]
    }
   ],
   "source": [
    "def multiply(l1):\n",
    "    sum=1\n",
    "    for i in l1:\n",
    "        if(str(i).isnumeric()):\n",
    "            sum*=i\n",
    "    return sum\n",
    "\n",
    "l1=[1,2,3,4,'a']\n",
    "print(sum(l1))"
   ]
  },
  {
   "cell_type": "markdown",
   "metadata": {},
   "source": [
    "# Q6 Write a Python function that takes a list and returns a new list with unique elements of the first list"
   ]
  },
  {
   "cell_type": "code",
   "execution_count": 31,
   "metadata": {},
   "outputs": [
    {
     "name": "stdout",
     "output_type": "stream",
     "text": [
      "[1, 2, 3, 4, 35, 6, 78, 'a', 'b', 'c']\n"
     ]
    }
   ],
   "source": [
    "def unque_values(l1):\n",
    "    l2=[]\n",
    "    for i in l1:\n",
    "        if i not in l2:\n",
    "            l2.append(i)\n",
    "    return l2\n",
    "\n",
    "l1=[1,2,3,4,1,2,35,6,78,'a','b','c','a']\n",
    "\n",
    "print(unque_values(l1))\n"
   ]
  },
  {
   "cell_type": "code",
   "execution_count": null,
   "metadata": {},
   "outputs": [],
   "source": []
  }
 ],
 "metadata": {
  "kernelspec": {
   "display_name": "Python 3",
   "language": "python",
   "name": "python3"
  },
  "language_info": {
   "codemirror_mode": {
    "name": "ipython",
    "version": 3
   },
   "file_extension": ".py",
   "mimetype": "text/x-python",
   "name": "python",
   "nbconvert_exporter": "python",
   "pygments_lexer": "ipython3",
   "version": "3.7.1"
  }
 },
 "nbformat": 4,
 "nbformat_minor": 2
}
