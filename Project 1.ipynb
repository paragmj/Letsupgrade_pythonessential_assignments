{
 "cells": [
  {
   "cell_type": "code",
   "execution_count": null,
   "metadata": {},
   "outputs": [],
   "source": [
    "!pip install onetimepad"
   ]
  },
  {
   "cell_type": "code",
   "execution_count": 112,
   "metadata": {},
   "outputs": [
    {
     "name": "stdout",
     "output_type": "stream",
     "text": [
      "Encrypted message for parag is 1c04061417\n",
      "Decrypted message for 1c04061417 is parag\n"
     ]
    }
   ],
   "source": [
    "import onetimepad\n",
    "from tkinter import *\n",
    "#import tkinter\n",
    "\n",
    "root = Tk()\n",
    "root.title(\"Chryptography App\")\n",
    "root.minsize(500,300)\n",
    "\n",
    "def encryptMessage():\n",
    "    pt = var.get()\n",
    "    ct = onetimepad.encrypt(pt,\"letupgrade\")\n",
    "    print(\"Encrypted message for\",pt,\"is\",ct) \n",
    "    \n",
    "    e2.delete(0,END)\n",
    "    e2.insert(END,ct)\n",
    "\n",
    "def dycrptMessage():\n",
    "    ct = var2.get()\n",
    "    pt = onetimepad.decrypt(ct,\"letupgrade\")\n",
    "    print(\"Decrypted message for\",ct,\"is\",pt)\n",
    "    \n",
    "    e4.delete(0,END)\n",
    "    e4.insert(END,pt)\n",
    "    \n",
    "lE = Label(root,text=\"ENCRYPTION\",bg='orange')\n",
    "lE.grid(row=3,column=1)\n",
    "lD = Label(root,text=\"DECRYPTION\",bg='pink')\n",
    "lD.grid(row=3,column=3)\n",
    "    \n",
    "    \n",
    "l1 = Label(root,text=\"Plain Text\")\n",
    "l1.grid(row=6,column=0)\n",
    "\n",
    "\n",
    "l3 = Label(root,text=\"Encypted Text\")\n",
    "l3.grid(row=6,column=2)\n",
    "\n",
    "var= StringVar()\n",
    "e1 = Entry(root,textvariable=var)\n",
    "e1.grid(row=6,column=1)\n",
    "\n",
    "var2= StringVar()\n",
    "e3 = Entry(root,textvariable=var2)\n",
    "e3.grid(row=6,column=3)\n",
    "\n",
    "\n",
    "\n",
    "l2 = Label(root,text=\"Encypted Text\")\n",
    "l2.grid(row=10,column=0)\n",
    "\n",
    "l4 = Label(root,text=\"Plain Text\")\n",
    "l4.grid(row=10,column=2)\n",
    "\n",
    "\n",
    "e2 = Entry(root)\n",
    "e2.grid(row=10,column=1)\n",
    "\n",
    "e4 = Entry(root)\n",
    "e4.grid(row=10,column=3)\n",
    "\n",
    "b1 = Button(root,text=\"Encyption\",bg=\"yellow\",fg=\"Red\",command=encryptMessage)\n",
    "b1.grid(row=25,column=1)\n",
    "\n",
    "b2 = Button(root,text=\"Dycrption\",bg=\"yellow\",fg=\"Red\",command=dycrptMessage)\n",
    "b2.grid(row=25,column=3)\n",
    "\n",
    "\n",
    "\n",
    "\n",
    "root.mainloop()"
   ]
  },
  {
   "cell_type": "code",
   "execution_count": null,
   "metadata": {},
   "outputs": [],
   "source": []
  }
 ],
 "metadata": {
  "kernelspec": {
   "display_name": "Python 3",
   "language": "python",
   "name": "python3"
  },
  "language_info": {
   "codemirror_mode": {
    "name": "ipython",
    "version": 3
   },
   "file_extension": ".py",
   "mimetype": "text/x-python",
   "name": "python",
   "nbconvert_exporter": "python",
   "pygments_lexer": "ipython3",
   "version": "3.7.1"
  }
 },
 "nbformat": 4,
 "nbformat_minor": 2
}
