{
 "cells": [
  {
   "cell_type": "markdown",
   "metadata": {},
   "source": [
    "# Project 4 Do the project - Sending mail using Python"
   ]
  },
  {
   "cell_type": "code",
   "execution_count": 28,
   "metadata": {},
   "outputs": [
    {
     "name": "stdout",
     "output_type": "stream",
     "text": [
      "login successful\n",
      "Successfully sent email\n",
      "Error: unable to send email\n"
     ]
    }
   ],
   "source": [
    "import smtplib\n",
    "\n",
    "message = \"Test Mail\"\n",
    "sender = \"parag.joshi.rocks@gmail.com\"\n",
    "receivers = \"parag.joshi.rocks@gmail.com\"\n",
    "\n",
    "\n",
    "smtpObj = smtplib.SMTP('smtp.gmail.com',587)\n",
    "smtpObj.starttls()\n",
    "smtpObj.login(\"parag.joshi.rocks@gmail.com\",\"dcdwnqzasiekgcne\")\n",
    "print(\"login successful\")\n",
    "smtpObj.sendmail(sender, receivers, message)         \n",
    "print (\"Successfully sent email\")\n",
    "print (\"Error: unable to send email\")"
   ]
  },
  {
   "cell_type": "code",
   "execution_count": null,
   "metadata": {},
   "outputs": [],
   "source": []
  }
 ],
 "metadata": {
  "kernelspec": {
   "display_name": "Python 3",
   "language": "python",
   "name": "python3"
  },
  "language_info": {
   "codemirror_mode": {
    "name": "ipython",
    "version": 3
   },
   "file_extension": ".py",
   "mimetype": "text/x-python",
   "name": "python",
   "nbconvert_exporter": "python",
   "pygments_lexer": "ipython3",
   "version": "3.7.1"
  }
 },
 "nbformat": 4,
 "nbformat_minor": 2
}
